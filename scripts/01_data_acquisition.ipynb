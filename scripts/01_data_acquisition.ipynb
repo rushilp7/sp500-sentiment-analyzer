{
 "cells": [
  {
   "cell_type": "code",
   "execution_count": 9,
   "metadata": {},
   "outputs": [
    {
     "name": "stdout",
     "output_type": "stream",
     "text": [
      "Fetching S&P 500 ticker list from Wikipedia...\n",
      "Found 504 tickers.\n",
      "['MMM', 'AOS', 'ABT', 'ABBV', 'ACN', 'ADBE', 'AMD', 'AES', 'AFL', 'A']\n"
     ]
    }
   ],
   "source": [
    "import pandas as pd\n",
    "import requests\n",
    "from io import StringIO\n",
    "\n",
    "def get_sp500_tickers():\n",
    "    \"\"\"Scrapes the list of S&P 500 tickers from Wikipedia.\"\"\"\n",
    "    print(\"Fetching S&P 500 ticker list from Wikipedia...\")\n",
    "    \n",
    "    url = 'https://en.wikipedia.org/wiki/List_of_S%26P_500_companies'\n",
    "    \n",
    "    # Add a User-Agent header to mimic a real browser\n",
    "    headers = {\n",
    "        'User-Agent': 'Mozilla/5.0 (Windows NT 10.0; Win64; x64) AppleWebKit/537.36 (KHTML, like Gecko) Chrome/58.0.3029.110 Safari/537.36'\n",
    "    }\n",
    "    \n",
    "    # Make the request with the new headers\n",
    "    response = requests.get(url, headers=headers)\n",
    "    \n",
    "    # Use StringIO to wrap the text, which is the modern way to use read_html\n",
    "    tables = pd.read_html(StringIO(response.text))\n",
    "    \n",
    "    # The rest of your function remains the same\n",
    "    sp500_df = tables[0]\n",
    "    tickers = sp500_df['Symbol'].str.replace('.', '-', regex=False).tolist()\n",
    "    print(f\"Found {len(tickers)} tickers.\")\n",
    "    return tickers\n",
    "\n",
    "# Get the list\n",
    "sp500_tickers = get_sp500_tickers()\n",
    "print(sp500_tickers[:10]) # Print first 10 to check"
   ]
  },
  {
   "cell_type": "code",
   "execution_count": 10,
   "metadata": {},
   "outputs": [
    {
     "name": "stdout",
     "output_type": "stream",
     "text": [
      "Vader lexicon is ready.\n",
      "\n",
      "Starting data collection for all S&P 500 stocks...\n",
      "Processing 1/504: MMM\n"
     ]
    },
    {
     "name": "stderr",
     "output_type": "stream",
     "text": [
      "/var/folders/st/8z9yjrgn4fq_j2pyt73wn7d00000gn/T/ipykernel_533/138501306.py:31: FutureWarning: YF.download() has changed argument auto_adjust default to True\n",
      "  stock_df = yf.download(ticker, start=START_DATE, end=END_DATE, progress=False)\n",
      "/var/folders/st/8z9yjrgn4fq_j2pyt73wn7d00000gn/T/ipykernel_533/138501306.py:60: FutureWarning: A value is trying to be set on a copy of a DataFrame or Series through chained assignment using an inplace method.\n",
      "The behavior will change in pandas 3.0. This inplace method will never work because the intermediate object on which we are setting values always behaves as a copy.\n",
      "\n",
      "For example, when doing 'df[col].method(value, inplace=True)', try using 'df.method({col: value}, inplace=True)' or df[col] = df[col].method(value) instead, to perform the operation inplace on the original object.\n",
      "\n",
      "\n",
      "  stock_df['sentiment'].fillna(method='ffill', inplace=True)\n",
      "/var/folders/st/8z9yjrgn4fq_j2pyt73wn7d00000gn/T/ipykernel_533/138501306.py:60: FutureWarning: Series.fillna with 'method' is deprecated and will raise in a future version. Use obj.ffill() or obj.bfill() instead.\n",
      "  stock_df['sentiment'].fillna(method='ffill', inplace=True)\n",
      "/var/folders/st/8z9yjrgn4fq_j2pyt73wn7d00000gn/T/ipykernel_533/138501306.py:61: FutureWarning: A value is trying to be set on a copy of a DataFrame or Series through chained assignment using an inplace method.\n",
      "The behavior will change in pandas 3.0. This inplace method will never work because the intermediate object on which we are setting values always behaves as a copy.\n",
      "\n",
      "For example, when doing 'df[col].method(value, inplace=True)', try using 'df.method({col: value}, inplace=True)' or df[col] = df[col].method(value) instead, to perform the operation inplace on the original object.\n",
      "\n",
      "\n",
      "  stock_df['sentiment'].fillna(0, inplace=True)\n"
     ]
    },
    {
     "name": "stdout",
     "output_type": "stream",
     "text": [
      "Processing 2/504: AOS\n"
     ]
    },
    {
     "name": "stderr",
     "output_type": "stream",
     "text": [
      "/var/folders/st/8z9yjrgn4fq_j2pyt73wn7d00000gn/T/ipykernel_533/138501306.py:31: FutureWarning: YF.download() has changed argument auto_adjust default to True\n",
      "  stock_df = yf.download(ticker, start=START_DATE, end=END_DATE, progress=False)\n",
      "/var/folders/st/8z9yjrgn4fq_j2pyt73wn7d00000gn/T/ipykernel_533/138501306.py:60: FutureWarning: A value is trying to be set on a copy of a DataFrame or Series through chained assignment using an inplace method.\n",
      "The behavior will change in pandas 3.0. This inplace method will never work because the intermediate object on which we are setting values always behaves as a copy.\n",
      "\n",
      "For example, when doing 'df[col].method(value, inplace=True)', try using 'df.method({col: value}, inplace=True)' or df[col] = df[col].method(value) instead, to perform the operation inplace on the original object.\n",
      "\n",
      "\n",
      "  stock_df['sentiment'].fillna(method='ffill', inplace=True)\n",
      "/var/folders/st/8z9yjrgn4fq_j2pyt73wn7d00000gn/T/ipykernel_533/138501306.py:60: FutureWarning: Series.fillna with 'method' is deprecated and will raise in a future version. Use obj.ffill() or obj.bfill() instead.\n",
      "  stock_df['sentiment'].fillna(method='ffill', inplace=True)\n",
      "/var/folders/st/8z9yjrgn4fq_j2pyt73wn7d00000gn/T/ipykernel_533/138501306.py:61: FutureWarning: A value is trying to be set on a copy of a DataFrame or Series through chained assignment using an inplace method.\n",
      "The behavior will change in pandas 3.0. This inplace method will never work because the intermediate object on which we are setting values always behaves as a copy.\n",
      "\n",
      "For example, when doing 'df[col].method(value, inplace=True)', try using 'df.method({col: value}, inplace=True)' or df[col] = df[col].method(value) instead, to perform the operation inplace on the original object.\n",
      "\n",
      "\n",
      "  stock_df['sentiment'].fillna(0, inplace=True)\n"
     ]
    },
    {
     "name": "stdout",
     "output_type": "stream",
     "text": [
      "Processing 3/504: ABT\n"
     ]
    },
    {
     "name": "stderr",
     "output_type": "stream",
     "text": [
      "/var/folders/st/8z9yjrgn4fq_j2pyt73wn7d00000gn/T/ipykernel_533/138501306.py:31: FutureWarning: YF.download() has changed argument auto_adjust default to True\n",
      "  stock_df = yf.download(ticker, start=START_DATE, end=END_DATE, progress=False)\n",
      "/var/folders/st/8z9yjrgn4fq_j2pyt73wn7d00000gn/T/ipykernel_533/138501306.py:60: FutureWarning: A value is trying to be set on a copy of a DataFrame or Series through chained assignment using an inplace method.\n",
      "The behavior will change in pandas 3.0. This inplace method will never work because the intermediate object on which we are setting values always behaves as a copy.\n",
      "\n",
      "For example, when doing 'df[col].method(value, inplace=True)', try using 'df.method({col: value}, inplace=True)' or df[col] = df[col].method(value) instead, to perform the operation inplace on the original object.\n",
      "\n",
      "\n",
      "  stock_df['sentiment'].fillna(method='ffill', inplace=True)\n",
      "/var/folders/st/8z9yjrgn4fq_j2pyt73wn7d00000gn/T/ipykernel_533/138501306.py:60: FutureWarning: Series.fillna with 'method' is deprecated and will raise in a future version. Use obj.ffill() or obj.bfill() instead.\n",
      "  stock_df['sentiment'].fillna(method='ffill', inplace=True)\n",
      "/var/folders/st/8z9yjrgn4fq_j2pyt73wn7d00000gn/T/ipykernel_533/138501306.py:61: FutureWarning: A value is trying to be set on a copy of a DataFrame or Series through chained assignment using an inplace method.\n",
      "The behavior will change in pandas 3.0. This inplace method will never work because the intermediate object on which we are setting values always behaves as a copy.\n",
      "\n",
      "For example, when doing 'df[col].method(value, inplace=True)', try using 'df.method({col: value}, inplace=True)' or df[col] = df[col].method(value) instead, to perform the operation inplace on the original object.\n",
      "\n",
      "\n",
      "  stock_df['sentiment'].fillna(0, inplace=True)\n"
     ]
    },
    {
     "name": "stdout",
     "output_type": "stream",
     "text": [
      "Processing 4/504: ABBV\n"
     ]
    },
    {
     "name": "stderr",
     "output_type": "stream",
     "text": [
      "/var/folders/st/8z9yjrgn4fq_j2pyt73wn7d00000gn/T/ipykernel_533/138501306.py:31: FutureWarning: YF.download() has changed argument auto_adjust default to True\n",
      "  stock_df = yf.download(ticker, start=START_DATE, end=END_DATE, progress=False)\n",
      "/var/folders/st/8z9yjrgn4fq_j2pyt73wn7d00000gn/T/ipykernel_533/138501306.py:60: FutureWarning: A value is trying to be set on a copy of a DataFrame or Series through chained assignment using an inplace method.\n",
      "The behavior will change in pandas 3.0. This inplace method will never work because the intermediate object on which we are setting values always behaves as a copy.\n",
      "\n",
      "For example, when doing 'df[col].method(value, inplace=True)', try using 'df.method({col: value}, inplace=True)' or df[col] = df[col].method(value) instead, to perform the operation inplace on the original object.\n",
      "\n",
      "\n",
      "  stock_df['sentiment'].fillna(method='ffill', inplace=True)\n",
      "/var/folders/st/8z9yjrgn4fq_j2pyt73wn7d00000gn/T/ipykernel_533/138501306.py:60: FutureWarning: Series.fillna with 'method' is deprecated and will raise in a future version. Use obj.ffill() or obj.bfill() instead.\n",
      "  stock_df['sentiment'].fillna(method='ffill', inplace=True)\n",
      "/var/folders/st/8z9yjrgn4fq_j2pyt73wn7d00000gn/T/ipykernel_533/138501306.py:61: FutureWarning: A value is trying to be set on a copy of a DataFrame or Series through chained assignment using an inplace method.\n",
      "The behavior will change in pandas 3.0. This inplace method will never work because the intermediate object on which we are setting values always behaves as a copy.\n",
      "\n",
      "For example, when doing 'df[col].method(value, inplace=True)', try using 'df.method({col: value}, inplace=True)' or df[col] = df[col].method(value) instead, to perform the operation inplace on the original object.\n",
      "\n",
      "\n",
      "  stock_df['sentiment'].fillna(0, inplace=True)\n"
     ]
    },
    {
     "name": "stdout",
     "output_type": "stream",
     "text": [
      "Processing 5/504: ACN\n"
     ]
    },
    {
     "name": "stderr",
     "output_type": "stream",
     "text": [
      "/var/folders/st/8z9yjrgn4fq_j2pyt73wn7d00000gn/T/ipykernel_533/138501306.py:31: FutureWarning: YF.download() has changed argument auto_adjust default to True\n",
      "  stock_df = yf.download(ticker, start=START_DATE, end=END_DATE, progress=False)\n",
      "/var/folders/st/8z9yjrgn4fq_j2pyt73wn7d00000gn/T/ipykernel_533/138501306.py:60: FutureWarning: A value is trying to be set on a copy of a DataFrame or Series through chained assignment using an inplace method.\n",
      "The behavior will change in pandas 3.0. This inplace method will never work because the intermediate object on which we are setting values always behaves as a copy.\n",
      "\n",
      "For example, when doing 'df[col].method(value, inplace=True)', try using 'df.method({col: value}, inplace=True)' or df[col] = df[col].method(value) instead, to perform the operation inplace on the original object.\n",
      "\n",
      "\n",
      "  stock_df['sentiment'].fillna(method='ffill', inplace=True)\n",
      "/var/folders/st/8z9yjrgn4fq_j2pyt73wn7d00000gn/T/ipykernel_533/138501306.py:60: FutureWarning: Series.fillna with 'method' is deprecated and will raise in a future version. Use obj.ffill() or obj.bfill() instead.\n",
      "  stock_df['sentiment'].fillna(method='ffill', inplace=True)\n",
      "/var/folders/st/8z9yjrgn4fq_j2pyt73wn7d00000gn/T/ipykernel_533/138501306.py:61: FutureWarning: A value is trying to be set on a copy of a DataFrame or Series through chained assignment using an inplace method.\n",
      "The behavior will change in pandas 3.0. This inplace method will never work because the intermediate object on which we are setting values always behaves as a copy.\n",
      "\n",
      "For example, when doing 'df[col].method(value, inplace=True)', try using 'df.method({col: value}, inplace=True)' or df[col] = df[col].method(value) instead, to perform the operation inplace on the original object.\n",
      "\n",
      "\n",
      "  stock_df['sentiment'].fillna(0, inplace=True)\n"
     ]
    },
    {
     "name": "stdout",
     "output_type": "stream",
     "text": [
      "Processing 6/504: ADBE\n"
     ]
    },
    {
     "name": "stderr",
     "output_type": "stream",
     "text": [
      "/var/folders/st/8z9yjrgn4fq_j2pyt73wn7d00000gn/T/ipykernel_533/138501306.py:31: FutureWarning: YF.download() has changed argument auto_adjust default to True\n",
      "  stock_df = yf.download(ticker, start=START_DATE, end=END_DATE, progress=False)\n",
      "/var/folders/st/8z9yjrgn4fq_j2pyt73wn7d00000gn/T/ipykernel_533/138501306.py:60: FutureWarning: A value is trying to be set on a copy of a DataFrame or Series through chained assignment using an inplace method.\n",
      "The behavior will change in pandas 3.0. This inplace method will never work because the intermediate object on which we are setting values always behaves as a copy.\n",
      "\n",
      "For example, when doing 'df[col].method(value, inplace=True)', try using 'df.method({col: value}, inplace=True)' or df[col] = df[col].method(value) instead, to perform the operation inplace on the original object.\n",
      "\n",
      "\n",
      "  stock_df['sentiment'].fillna(method='ffill', inplace=True)\n",
      "/var/folders/st/8z9yjrgn4fq_j2pyt73wn7d00000gn/T/ipykernel_533/138501306.py:60: FutureWarning: Series.fillna with 'method' is deprecated and will raise in a future version. Use obj.ffill() or obj.bfill() instead.\n",
      "  stock_df['sentiment'].fillna(method='ffill', inplace=True)\n",
      "/var/folders/st/8z9yjrgn4fq_j2pyt73wn7d00000gn/T/ipykernel_533/138501306.py:61: FutureWarning: A value is trying to be set on a copy of a DataFrame or Series through chained assignment using an inplace method.\n",
      "The behavior will change in pandas 3.0. This inplace method will never work because the intermediate object on which we are setting values always behaves as a copy.\n",
      "\n",
      "For example, when doing 'df[col].method(value, inplace=True)', try using 'df.method({col: value}, inplace=True)' or df[col] = df[col].method(value) instead, to perform the operation inplace on the original object.\n",
      "\n",
      "\n",
      "  stock_df['sentiment'].fillna(0, inplace=True)\n"
     ]
    },
    {
     "name": "stdout",
     "output_type": "stream",
     "text": [
      "\n",
      "Combining all data into a single DataFrame...\n",
      "\n",
      "--- Final Combined Dataset ---\n",
      "                 Close        High         Low        Open   Volume  \\\n",
      "Date                                                                  \n",
      "2025-07-29  151.091873  152.395861  150.454817  151.699068  3918100   \n",
      "2025-07-30  145.945648  151.798609  145.826205  151.778697  3529500   \n",
      "2025-07-31  148.533691  148.872124  144.890521  145.517629  4390400   \n",
      "2025-08-01  143.745819  146.045192  143.586551  145.826203  4074400   \n",
      "2025-08-04  147.189896  147.498467  144.333101  144.721306  3641300   \n",
      "\n",
      "            sentiment ticker  \n",
      "Date                          \n",
      "2025-07-29    0.00000    MMM  \n",
      "2025-07-30    0.38915    MMM  \n",
      "2025-07-31    0.33525    MMM  \n",
      "2025-08-01    0.33525    MMM  \n",
      "2025-08-04    0.21075    MMM  \n",
      "...\n",
      "                 Close        High         Low        Open   Volume  \\\n",
      "Date                                                                  \n",
      "2025-08-21  353.429993  353.820007  347.000000  349.910004  2363200   \n",
      "2025-08-22  362.089996  362.649994  354.000000  355.799988  3058600   \n",
      "2025-08-25  363.209991  364.649994  361.399994  362.559998  2259500   \n",
      "2025-08-26  354.910004  363.230011  353.700012  363.029999  4067400   \n",
      "2025-08-27  356.350006  360.369995  355.160004  355.980011  2353100   \n",
      "\n",
      "            sentiment ticker  \n",
      "Date                          \n",
      "2025-08-21    0.00000   ADBE  \n",
      "2025-08-22    0.00000   ADBE  \n",
      "2025-08-25    0.08360   ADBE  \n",
      "2025-08-26    0.08445   ADBE  \n",
      "2025-08-27    0.08445   ADBE  \n"
     ]
    }
   ],
   "source": [
    "import pandas as pd\n",
    "import yfinance as yf\n",
    "from gnews import GNews\n",
    "from nltk.sentiment.vader import SentimentIntensityAnalyzer\n",
    "import time\n",
    "from datetime import date, timedelta\n",
    "import nltk\n",
    "\n",
    "# --- NLTK Setup ---\n",
    "try:\n",
    "    nltk.data.find('sentiment/vader_lexicon.zip')\n",
    "except LookupError:\n",
    "    print(\"Vader lexicon not found. Downloading...\")\n",
    "    nltk.download('vader_lexicon')\n",
    "print(\"Vader lexicon is ready.\")\n",
    "\n",
    "# --- Parameters ---\n",
    "END_DATE = date.today()\n",
    "START_DATE = END_DATE - timedelta(days=30)\n",
    "\n",
    "# --- Initialize ---\n",
    "gnews = GNews(start_date=START_DATE, end_date=END_DATE)\n",
    "sia = SentimentIntensityAnalyzer() # Initialize it once here\n",
    "all_dataframes = []\n",
    "# --- Main Loop ---\n",
    "print(\"\\nStarting data collection for all S&P 500 stocks...\")\n",
    "for i, ticker in enumerate(sp500_tickers[:6]):\n",
    "    print(f\"Processing {i+1}/{len(sp500_tickers)}: {ticker}\")\n",
    "    try:\n",
    "        # --- 1. Fetch Stock Data ---\n",
    "        stock_df = yf.download(ticker, start=START_DATE, end=END_DATE, progress=False)\n",
    "        \n",
    "        # !!! THIS IS THE CRITICAL FIX !!!\n",
    "        # Flatten the multi-level column index if it exists\n",
    "        if isinstance(stock_df.columns, pd.MultiIndex):\n",
    "            stock_df.columns = stock_df.columns.droplevel(1)\n",
    "\n",
    "        if stock_df.empty:\n",
    "            print(f\"  No stock data for {ticker}. Skipping.\")\n",
    "            continue\n",
    "\n",
    "        # --- 2. Fetch News Data ---\n",
    "        news_articles = gnews.get_news(f'{ticker} stock')\n",
    "        if not news_articles:\n",
    "            print(f\"  No news for {ticker}. Proceeding without sentiment.\")\n",
    "            stock_df['sentiment'] = 0.0\n",
    "        else:\n",
    "            news_df = pd.DataFrame(news_articles)\n",
    "            # --- 3. Perform Sentiment Analysis ---\n",
    "            news_df['sentiment'] = news_df['title'].apply(lambda title: sia.polarity_scores(title)['compound'])\n",
    "            news_df['date'] = pd.to_datetime(news_df['published date']).dt.date\n",
    "            \n",
    "            # --- 4. Combine Datasets ---\n",
    "            daily_sentiment = news_df.groupby('date')['sentiment'].mean()\n",
    "            daily_sentiment.index = pd.to_datetime(daily_sentiment.index)\n",
    "            \n",
    "            # Now the .join() will work because the columns are simple\n",
    "            stock_df = stock_df.join(daily_sentiment, how='left')\n",
    "            \n",
    "            stock_df['sentiment'].fillna(method='ffill', inplace=True)\n",
    "            stock_df['sentiment'].fillna(0, inplace=True)\n",
    "\n",
    "        # Add a ticker column for identification\n",
    "        stock_df['ticker'] = ticker\n",
    "        all_dataframes.append(stock_df)\n",
    "\n",
    "        # IMPORTANT: Pause to be respectful to the APIs\n",
    "        time.sleep(1)\n",
    "\n",
    "    except Exception as e:\n",
    "        print(f\"  An error occurred for {ticker}: {e}\")\n",
    "\n",
    "# --- Final Combination ---\n",
    "print(\"\\nCombining all data into a single DataFrame...\")\n",
    "# This will now work because all_dataframes will not be empty\n",
    "if all_dataframes:\n",
    "    final_df = pd.concat(all_dataframes)\n",
    "    print(\"\\n--- Final Combined Dataset ---\")\n",
    "    print(final_df.head())\n",
    "    print(\"...\")\n",
    "    print(final_df.tail())\n",
    "else:\n",
    "    print(\"No data was collected.\")"
   ]
  }
 ],
 "metadata": {
  "kernelspec": {
   "display_name": "Python 3",
   "language": "python",
   "name": "python3"
  },
  "language_info": {
   "codemirror_mode": {
    "name": "ipython",
    "version": 3
   },
   "file_extension": ".py",
   "mimetype": "text/x-python",
   "name": "python",
   "nbconvert_exporter": "python",
   "pygments_lexer": "ipython3",
   "version": "3.12.0"
  }
 },
 "nbformat": 4,
 "nbformat_minor": 2
}
